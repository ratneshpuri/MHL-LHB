{
  "nbformat": 4,
  "nbformat_minor": 0,
  "metadata": {
    "colab": {
      "name": "ReversingString.ipynb",
      "provenance": [],
      "collapsed_sections": [],
      "authorship_tag": "ABX9TyPpuPgWiLdsVc5p2tg0BGe8",
      "include_colab_link": true
    },
    "kernelspec": {
      "name": "python3",
      "display_name": "Python 3"
    },
    "language_info": {
      "name": "python"
    }
  },
  "cells": [
    {
      "cell_type": "markdown",
      "metadata": {
        "id": "view-in-github",
        "colab_type": "text"
      },
      "source": [
        "<a href=\"https://colab.research.google.com/github/ratneshpuri/MHL-LHB/blob/main/ReversingString.ipynb\" target=\"_parent\"><img src=\"https://colab.research.google.com/assets/colab-badge.svg\" alt=\"Open In Colab\"/></a>"
      ]
    },
    {
      "cell_type": "code",
      "execution_count": 4,
      "metadata": {
        "colab": {
          "base_uri": "https://localhost:8080/"
        },
        "id": "yNhGC-kqFWOR",
        "outputId": "b1d9baeb-6ed9-440c-8907-86a7d68aa249"
      },
      "outputs": [
        {
          "output_type": "stream",
          "name": "stdout",
          "text": [
            "Enter the string: \n",
            "I love python and data science\n",
            "ecneics atad dna nohtyp evol I\n"
          ]
        }
      ],
      "source": [
        "print(\"Enter the string: \")\n",
        "string=input()\n",
        "print(string[::-1])"
      ]
    }
  ]
}